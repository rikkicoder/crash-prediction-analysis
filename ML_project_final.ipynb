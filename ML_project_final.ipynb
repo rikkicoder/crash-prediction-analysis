{
 "cells": [
  {
   "cell_type": "code",
   "execution_count": null,
   "metadata": {},
   "outputs": [],
   "source": [
    "import numpy as np\n",
    "import pandas as pd\n",
    "import matplotlib.pyplot as plt\n",
    "import seaborn as sb\n",
    "from sklearn.ensemble import RandomForestClassifier\n",
    "from sklearn.ensemble import GradientBoostingClassifier\n",
    "from sklearn.model_selection import train_test_split\n",
    "from sklearn.metrics import accuracy_score\n",
    "from sklearn.preprocessing import OneHotEncoder\n",
    "from sklearn.compose import ColumnTransformer\n",
    "from catboost import CatBoostClassifier\n",
    "from xgboost import XGBClassifier\n",
    "from sdv.metadata import SingleTableMetadata"
   ]
  },
  {
   "cell_type": "code",
   "execution_count": 4,
   "metadata": {},
   "outputs": [
    {
     "data": {
      "text/html": [
       "<div>\n",
       "<style scoped>\n",
       "    .dataframe tbody tr th:only-of-type {\n",
       "        vertical-align: middle;\n",
       "    }\n",
       "\n",
       "    .dataframe tbody tr th {\n",
       "        vertical-align: top;\n",
       "    }\n",
       "\n",
       "    .dataframe thead th {\n",
       "        text-align: right;\n",
       "    }\n",
       "</style>\n",
       "<table border=\"1\" class=\"dataframe\">\n",
       "  <thead>\n",
       "    <tr style=\"text-align: right;\">\n",
       "      <th></th>\n",
       "      <th>Vehicle_Speed</th>\n",
       "      <th>Crash_Time</th>\n",
       "      <th>Age</th>\n",
       "      <th>Number_of_Lanes</th>\n",
       "      <th>Lane_Width</th>\n",
       "      <th>Speed_Limit</th>\n",
       "    </tr>\n",
       "  </thead>\n",
       "  <tbody>\n",
       "    <tr>\n",
       "      <th>count</th>\n",
       "      <td>300.000000</td>\n",
       "      <td>300.000000</td>\n",
       "      <td>300.000000</td>\n",
       "      <td>300.000000</td>\n",
       "      <td>300.000000</td>\n",
       "      <td>300.000000</td>\n",
       "    </tr>\n",
       "    <tr>\n",
       "      <th>mean</th>\n",
       "      <td>64.366667</td>\n",
       "      <td>11.690000</td>\n",
       "      <td>48.663333</td>\n",
       "      <td>2.000000</td>\n",
       "      <td>3.272374</td>\n",
       "      <td>74.746667</td>\n",
       "    </tr>\n",
       "    <tr>\n",
       "      <th>std</th>\n",
       "      <td>31.951974</td>\n",
       "      <td>6.740327</td>\n",
       "      <td>18.432104</td>\n",
       "      <td>0.825999</td>\n",
       "      <td>0.143053</td>\n",
       "      <td>26.857903</td>\n",
       "    </tr>\n",
       "    <tr>\n",
       "      <th>min</th>\n",
       "      <td>10.000000</td>\n",
       "      <td>0.000000</td>\n",
       "      <td>18.000000</td>\n",
       "      <td>1.000000</td>\n",
       "      <td>3.001781</td>\n",
       "      <td>30.000000</td>\n",
       "    </tr>\n",
       "    <tr>\n",
       "      <th>25%</th>\n",
       "      <td>37.000000</td>\n",
       "      <td>5.750000</td>\n",
       "      <td>31.000000</td>\n",
       "      <td>1.000000</td>\n",
       "      <td>3.150568</td>\n",
       "      <td>51.000000</td>\n",
       "    </tr>\n",
       "    <tr>\n",
       "      <th>50%</th>\n",
       "      <td>60.500000</td>\n",
       "      <td>12.000000</td>\n",
       "      <td>51.000000</td>\n",
       "      <td>2.000000</td>\n",
       "      <td>3.285620</td>\n",
       "      <td>75.000000</td>\n",
       "    </tr>\n",
       "    <tr>\n",
       "      <th>75%</th>\n",
       "      <td>94.000000</td>\n",
       "      <td>17.000000</td>\n",
       "      <td>65.000000</td>\n",
       "      <td>3.000000</td>\n",
       "      <td>3.394545</td>\n",
       "      <td>97.250000</td>\n",
       "    </tr>\n",
       "    <tr>\n",
       "      <th>max</th>\n",
       "      <td>120.000000</td>\n",
       "      <td>23.000000</td>\n",
       "      <td>80.000000</td>\n",
       "      <td>3.000000</td>\n",
       "      <td>3.497986</td>\n",
       "      <td>120.000000</td>\n",
       "    </tr>\n",
       "  </tbody>\n",
       "</table>\n",
       "</div>"
      ],
      "text/plain": [
       "       Vehicle_Speed  Crash_Time         Age  Number_of_Lanes  Lane_Width  \\\n",
       "count     300.000000  300.000000  300.000000       300.000000  300.000000   \n",
       "mean       64.366667   11.690000   48.663333         2.000000    3.272374   \n",
       "std        31.951974    6.740327   18.432104         0.825999    0.143053   \n",
       "min        10.000000    0.000000   18.000000         1.000000    3.001781   \n",
       "25%        37.000000    5.750000   31.000000         1.000000    3.150568   \n",
       "50%        60.500000   12.000000   51.000000         2.000000    3.285620   \n",
       "75%        94.000000   17.000000   65.000000         3.000000    3.394545   \n",
       "max       120.000000   23.000000   80.000000         3.000000    3.497986   \n",
       "\n",
       "       Speed_Limit  \n",
       "count   300.000000  \n",
       "mean     74.746667  \n",
       "std      26.857903  \n",
       "min      30.000000  \n",
       "25%      51.000000  \n",
       "50%      75.000000  \n",
       "75%      97.250000  \n",
       "max     120.000000  "
      ]
     },
     "execution_count": 4,
     "metadata": {},
     "output_type": "execute_result"
    }
   ],
   "source": [
    "data=pd.read_csv(\"Data Sheet - Sheet1.csv\")\n",
    "data.describe()"
   ]
  },
  {
   "cell_type": "code",
   "execution_count": 5,
   "metadata": {},
   "outputs": [],
   "source": [
    "metadata = SingleTableMetadata()\n",
    "\n",
    "metadata.add_column(column_name='Vehicle_Speed', sdtype=\"numerical\")\n",
    "metadata.add_column(column_name='Crash_Time', sdtype=\"categorical\")\n",
    "metadata.add_column(column_name=\"Age\", sdtype=\"numerical\")\n",
    "metadata.add_column(column_name=\"Gender\", sdtype=\"categorical\")\n",
    "metadata.add_column(column_name='Vehicle_Type', sdtype=\"categorical\")\n",
    "metadata.add_column(column_name=\"Number_of_Lanes\", sdtype=\"numerical\")\n",
    "metadata.add_column(column_name=\"Lane_Width\", sdtype=\"numerical\", )\n",
    "metadata.add_column(column_name=\"Road_Type\", sdtype=\"categorical\")\n",
    "metadata.add_column(column_name=\"Alcohol_Consumption\", sdtype=\"categorical\")\n",
    "metadata.add_column(column_name=\"Crash_Type\", sdtype=\"categorical\")\n",
    "metadata.add_column(column_name=\"Seatbelt_Usage\", sdtype=\"categorical\")\n",
    "metadata.add_column(column_name=\"Speed_Limit\", sdtype=\"numerical\")\n",
    "metadata.add_column(column_name=\"Road_Surface_Condition\", sdtype=\"categorical\")\n",
    "metadata.add_column(column_name='Crash_Severity', sdtype=\"categorical\")\n",
    "\n"
   ]
  },
  {
   "cell_type": "code",
   "execution_count": 6,
   "metadata": {},
   "outputs": [],
   "source": [
    "from sdv.single_table import CTGANSynthesizer\n",
    "\n",
    "model = CTGANSynthesizer(metadata)\n",
    "\n",
    "model.fit(data)\n",
    "\n",
    "synthetic_data = model.sample(700)\n",
    "\n",
    "\n",
    "print(\"\\nSynthetic Data Summary:\")\n",
    "print(synthetic_data.describe())\n",
    "\n",
    "synthetic_data.to_csv(\"synthetic_data.csv\", index=False)\n",
    "\n",
    "print(\"\\nSynthetic data has been saved to 'synthetic_data.csv'.\")\n",
    "# synthetic_data=pd.read_csv('synthetic_data.csv')"
   ]
  },
  {
   "cell_type": "code",
   "execution_count": 7,
   "metadata": {},
   "outputs": [
    {
     "data": {
      "text/plain": [
       "Index(['Crash_Severity', 'Vehicle_Speed', 'Crash_Time', 'Age', 'Gender',\n",
       "       'Vehicle_Type', 'Number_of_Lanes', 'Lane_Width', 'Road_Type',\n",
       "       'Alcohol_Consumption', 'Crash_Type', 'Seatbelt_Usage', 'Speed_Limit',\n",
       "       'Road_Surface_Condition'],\n",
       "      dtype='object')"
      ]
     },
     "execution_count": 7,
     "metadata": {},
     "output_type": "execute_result"
    }
   ],
   "source": [
    "data.columns"
   ]
  },
  {
   "cell_type": "code",
   "execution_count": 13,
   "metadata": {},
   "outputs": [],
   "source": [
    "data = pd.concat([data, synthetic_data])"
   ]
  },
  {
   "cell_type": "code",
   "execution_count": 14,
   "metadata": {},
   "outputs": [],
   "source": [
    "#feature engineering\n",
    "\n",
    "data['Speed_Ratio']=data['Vehicle_Speed']/data['Speed_Limit']\n",
    "data['total_lane']=data['Number_of_Lanes']*data['Lane_Width']\n",
    "\n",
    "data['Speeding_Indicator'] = data['Vehicle_Speed'] > data['Speed_Limit']\n",
    "data['Alcohol_Crash'] = data['Alcohol_Consumption'] + '-' + data['Crash_Type']\n",
    "\n",
    "data['Speed_Category'] = pd.cut(data['Vehicle_Speed'], bins=[0, 30, 70, 100, 120], labels=[0, 1,2, 3])\n",
    "data['gen']=(data['Gender']=='Female')\n",
    "data['Relative_Speed'] = data['Vehicle_Speed'] - data['Speed_Limit']\n",
    "data['Time_of_Day'] = pd.cut(data['Crash_Time'],\n",
    "                           bins=[-1, 6, 12, 18, 24],\n",
    "                           labels=[3, 2, 0, 1])\n",
    "data['AgeCategory'] = pd.cut(data['Age'],\n",
    "                           bins=[-float('inf'), 12, 19, 48, 64, float('inf')],\n",
    "                           labels=[10,6,2, 4, 5])\n",
    "\n",
    "data['Avg_Speed_by_Road_Type'] = data.groupby('Road_Type')['Vehicle_Speed'].transform('mean')\n",
    "data['Crash_Count_By_Vehicle_Type'] = data.groupby('Vehicle_Type')['Vehicle_Type'].transform('count')\n",
    "data['Road_Surface_Risk_Score'] = data['Road_Surface_Condition'].replace({'Dry': 1, 'Wet': 2, 'Icy': 3})\n",
    "\n",
    "data['Vehicle_Type_Frequency'] = data['Vehicle_Type'].map(data['Vehicle_Type'].value_counts())\n",
    "data['Crash_Type_Target_Encoding'] = data.groupby('Crash_Type')['Crash_Type'].transform('count')\n",
    "\n",
    "data['Rush_Hour_Indicator'] = data['Crash_Time'].apply(lambda x: 7 <= int(x) <= 9 or 17 <= int(x) <= 19)\n",
    "\n",
    "data['Road_Safety'] = (data['Seatbelt_Usage'] == 'Yes') & (data['Alcohol_Consumption'] == 'No')\n",
    "data['Rural_Unsafe_Roads'] = (data['Road_Type'] == 'Rural') & (data['Road_Surface_Condition'] != 'Dry')\n",
    "\n",
    "from sklearn.cluster import KMeans\n",
    "kmeans = KMeans(n_clusters=5, random_state=42)\n",
    "data['Driver_Cluster'] = kmeans.fit_predict(data[['Vehicle_Speed', 'Age', 'Speed_Limit']])\n",
    "\n",
    "data['Crash_Risk_Score'] = (data['Vehicle_Speed'] > 50).astype(int) + \\\n",
    "                         (data['Alcohol_Consumption'] == 'Yes').astype(int) + \\\n",
    "                         (data['Road_Surface_Condition'].map({'Dry': 0, 'Wet': 1, 'Icy': 2}))\n",
    "\n",
    "data['Driver_Risk_Factor'] = (data['AgeCategory'] == 2).astype(int) + \\\n",
    "                           (data['Gender'] == 'Male').astype(int) + \\\n",
    "                           (data['Seatbelt_Usage'] == 'No').astype(int)\n",
    "\n",
    "\n"
   ]
  },
  {
   "cell_type": "code",
   "execution_count": 15,
   "metadata": {},
   "outputs": [
    {
     "data": {
      "text/plain": [
       "Index(['Crash_Severity', 'Vehicle_Speed', 'Crash_Time', 'Age', 'Gender',\n",
       "       'Vehicle_Type', 'Number_of_Lanes', 'Lane_Width', 'Road_Type',\n",
       "       'Alcohol_Consumption', 'Crash_Type', 'Seatbelt_Usage', 'Speed_Limit',\n",
       "       'Road_Surface_Condition', 'Speed_Ratio', 'total_lane',\n",
       "       'Speeding_Indicator', 'Alcohol_Crash', 'Speed_Category', 'gen',\n",
       "       'Relative_Speed', 'Time_of_Day', 'AgeCategory',\n",
       "       'Avg_Speed_by_Road_Type', 'Crash_Count_By_Vehicle_Type',\n",
       "       'Road_Surface_Risk_Score', 'Vehicle_Type_Frequency',\n",
       "       'Crash_Type_Target_Encoding', 'Rush_Hour_Indicator', 'Road_Safety',\n",
       "       'Rural_Unsafe_Roads', 'Driver_Cluster', 'Crash_Risk_Score',\n",
       "       'Driver_Risk_Factor'],\n",
       "      dtype='object')"
      ]
     },
     "execution_count": 15,
     "metadata": {},
     "output_type": "execute_result"
    }
   ],
   "source": [
    "data.columns"
   ]
  },
  {
   "cell_type": "code",
   "execution_count": 16,
   "metadata": {},
   "outputs": [
    {
     "name": "stdout",
     "output_type": "stream",
     "text": [
      "Selected Features: Index(['Vehicle_Speed', 'Age', 'Lane_Width', 'Speed_Limit', 'Speed_Ratio',\n",
      "       'total_lane', 'Relative_Speed', 'Time_of_Day',\n",
      "       'Crash_Count_By_Vehicle_Type', 'Road_Surface_Risk_Score',\n",
      "       'Vehicle_Type_Frequency', 'Driver_Cluster', 'Crash_Risk_Score',\n",
      "       'Driver_Risk_Factor', 'Crash_Time'],\n",
      "      dtype='object')\n",
      "Index(['Vehicle_Speed', 'Age', 'Number_of_Lanes', 'Lane_Width', 'Speed_Limit',\n",
      "       'Speed_Ratio', 'total_lane', 'Speed_Category', 'gen', 'Relative_Speed',\n",
      "       'Time_of_Day', 'Avg_Speed_by_Road_Type', 'Crash_Count_By_Vehicle_Type',\n",
      "       'Road_Surface_Risk_Score', 'Vehicle_Type_Frequency',\n",
      "       'Crash_Type_Target_Encoding', 'Rush_Hour_Indicator', 'Road_Safety',\n",
      "       'Rural_Unsafe_Roads', 'Driver_Cluster', 'Crash_Risk_Score',\n",
      "       'Driver_Risk_Factor', 'Speeding_Indicator', 'Crash_Time',\n",
      "       'Alcohol_Crash_No-Rear-end', 'Alcohol_Crash_Yes-Head-on',\n",
      "       'Alcohol_Crash_Yes-Rear-end', 'Gender_Male', 'Crash_Type_Rear-end',\n",
      "       'AgeCategory_6', 'AgeCategory_2', 'AgeCategory_4', 'AgeCategory_5',\n",
      "       'Vehicle_Type_Heavy Vehicle', 'Vehicle_Type_T.W', 'Road_Type_Urban',\n",
      "       'Alcohol_Consumption_Yes', 'Seatbelt_Usage_Yes',\n",
      "       'Road_Surface_Condition_Icy', 'Road_Surface_Condition_Wet'],\n",
      "      dtype='object')\n"
     ]
    }
   ],
   "source": [
    "from sklearn.feature_selection import RFE\n",
    "from sklearn.ensemble import RandomForestClassifier\n",
    "\n",
    "x = data.drop(columns=['Crash_Severity'])\n",
    "y = data['Crash_Severity']\n",
    "\n",
    "# Use a Random Forest Classifier\n",
    "model = RandomForestClassifier(random_state=123)\n",
    "categorical_to_encode = ['Alcohol_Crash','Speeding_Indicator','Gender','Crash_Type','AgeCategory','Crash_Time', 'Vehicle_Type', 'Road_Type', 'Alcohol_Consumption','Seatbelt_Usage','Road_Surface_Condition']  # Specify columns to encode\n",
    "\n",
    "# One-Hot Encoding for selected columns\n",
    "X_encoded = pd.get_dummies(x[categorical_to_encode], drop_first=True)\n",
    "\n",
    "# Combine with non-encoded features\n",
    "non_encoded_features = x.drop(columns=categorical_to_encode)\n",
    "X_transformed = pd.concat([non_encoded_features, X_encoded], axis=1)\n",
    "\n",
    "# Transform the data\n",
    "# Recursive Feature Elimination\n",
    "rfe = RFE(model, n_features_to_select=15)  # Keep top 10 features\n",
    "rfe.fit(X_transformed, y)\n",
    "\n",
    "# Selected features\n",
    "selected_features = X_transformed.columns[rfe.support_]\n",
    "print(\"Selected Features:\", selected_features)\n",
    "print(X_transformed.columns)\n"
   ]
  },
  {
   "cell_type": "code",
   "execution_count": 17,
   "metadata": {},
   "outputs": [],
   "source": [
    "x = data[['Vehicle_Speed', 'Age', 'Lane_Width', 'Speed_Limit', 'Speed_Ratio',\n",
    "       'total_lane', 'Relative_Speed', 'Crash_Risk_Score',\n",
    "       'Driver_Risk_Factor', 'Crash_Time']]\n",
    "y = data['Crash_Severity']\n"
   ]
  },
  {
   "cell_type": "code",
   "execution_count": 18,
   "metadata": {},
   "outputs": [
    {
     "name": "stdout",
     "output_type": "stream",
     "text": [
      "0.6599326599326599\n",
      "1.0\n",
      "0.6363636363636364\n",
      "0.9917081260364843\n",
      "0:\tlearn: 1.0938293\ttotal: 177ms\tremaining: 1m 10s\n",
      "50:\tlearn: 0.9038520\ttotal: 290ms\tremaining: 1.98s\n",
      "100:\tlearn: 0.7795353\ttotal: 401ms\tremaining: 1.19s\n",
      "150:\tlearn: 0.6783586\ttotal: 515ms\tremaining: 849ms\n",
      "200:\tlearn: 0.5966236\ttotal: 627ms\tremaining: 621ms\n",
      "250:\tlearn: 0.5193932\ttotal: 785ms\tremaining: 466ms\n",
      "300:\tlearn: 0.4550401\ttotal: 912ms\tremaining: 300ms\n",
      "350:\tlearn: 0.4061156\ttotal: 1.04s\tremaining: 146ms\n",
      "399:\tlearn: 0.3629213\ttotal: 1.17s\tremaining: 0us\n",
      "0.622895622895623\n",
      "1.0\n"
     ]
    }
   ],
   "source": [
    "x_train, x_test, y_train, y_test=train_test_split(x, y, test_size=0.33, random_state=123)\n",
    "model1=RandomForestClassifier(n_estimators=100, n_jobs=-1 , random_state=123, max_depth=15, max_features=6)\n",
    "model2=GradientBoostingClassifier(n_estimators=200,  random_state=123, learning_rate=0.09)\n",
    "model3 = CatBoostClassifier(iterations=400, verbose=50, learning_rate=0.05)\n",
    "model1.fit(x_train, y_train)\n",
    "print(model1.score(x_test, y_test))\n",
    "print(model1.score(x_train, y_train))\n",
    "model2.fit(x_train, y_train)\n",
    "print(model2.score(x_test, y_test))\n",
    "print(model2.score(x_train, y_train))\n",
    "model3.fit(x_train, y_train)\n",
    "print(model3.score(x_test, y_test))\n",
    "print(model3.score(x_train, y_train))"
   ]
  },
  {
   "cell_type": "code",
   "execution_count": 19,
   "metadata": {},
   "outputs": [
    {
     "name": "stdout",
     "output_type": "stream",
     "text": [
      "              Feature  Gini Importance\n",
      "5          total_lane         0.130733\n",
      "3         Speed_Limit         0.122806\n",
      "9          Crash_Time         0.119422\n",
      "2          Lane_Width         0.111068\n",
      "1                 Age         0.106972\n",
      "0       Vehicle_Speed         0.106829\n",
      "4         Speed_Ratio         0.102193\n",
      "6      Relative_Speed         0.092633\n",
      "7    Crash_Risk_Score         0.054616\n",
      "8  Driver_Risk_Factor         0.052728\n"
     ]
    }
   ],
   "source": [
    "importances = model1.feature_importances_\n",
    "\n",
    "# Get Feature Names\n",
    "\n",
    "feature_names=['Vehicle_Speed', 'Age', 'Lane_Width', 'Speed_Limit', 'Speed_Ratio',\n",
    "       'total_lane', 'Relative_Speed', 'Crash_Risk_Score',\n",
    "       'Driver_Risk_Factor', 'Crash_Time']\n",
    "# Create a DataFrame for easier interpretation\n",
    "importance_df = pd.DataFrame({\n",
    "    'Feature': feature_names,\n",
    "    'Gini Importance': importances\n",
    "}).sort_values(by='Gini Importance', ascending=False)\n",
    "# Display Results\n",
    "print(importance_df)"
   ]
  },
  {
   "cell_type": "code",
   "execution_count": 20,
   "metadata": {},
   "outputs": [
    {
     "name": "stdout",
     "output_type": "stream",
     "text": [
      "0.6464646464646465\n",
      "0.9983416252072969\n"
     ]
    }
   ],
   "source": [
    "# Create the XGBoost Classifier\n",
    "model4 = XGBClassifier(\n",
    "    objective=\"multi:softmax\",  # Use softmax for multi-class classification\n",
    "    num_class=3,               # Number of classes in the dataset\n",
    "    max_depth=4,               # Maximum depth of a tree\n",
    "    learning_rate=0.09,         # Learning rate\n",
    "    n_estimators=200,          # Number of boosting rounds\n",
    "    random_state=123\n",
    ")\n",
    "mapping = {'Minor injury': 0, 'Major injury': 1, 'Fatal crash': 2}\n",
    "\n",
    "# Apply the mapping\n",
    "y_test_mapped = y_test.map(mapping)\n",
    "y_train_mapped = y_train.map(mapping)\n",
    "# Train the model\n",
    "model4.fit(x_train, y_train_mapped)\n",
    "print(model4.score(x_test, y_test_mapped))\n",
    "print(model4.score(x_train, y_train_mapped))"
   ]
  },
  {
   "cell_type": "code",
   "execution_count": 21,
   "metadata": {},
   "outputs": [
    {
     "data": {
      "text/plain": [
       "pandas.core.series.Series"
      ]
     },
     "execution_count": 21,
     "metadata": {},
     "output_type": "execute_result"
    }
   ],
   "source": [
    "type(y_test)"
   ]
  },
  {
   "cell_type": "code",
   "execution_count": 22,
   "metadata": {},
   "outputs": [],
   "source": [
    "y_pred1=model1.predict(x_test)\n",
    "y_pred2=model2.predict(x_test)\n",
    "y_pred3=model3.predict(x_test)\n",
    "y_pred4=model4.predict(x_test)\n",
    "y_pred3=y_pred3[:,0]\n",
    "mapping = {0:'Minor injury',1: 'Major injury',2: 'Fatal crash'}\n",
    "# Apply the mapping\n",
    "y_pred4 = pd.Series(y_pred4)\n",
    "\n",
    "y_pred4 = y_pred4.map(mapping)"
   ]
  },
  {
   "cell_type": "code",
   "execution_count": 29,
   "metadata": {},
   "outputs": [
    {
     "name": "stdout",
     "output_type": "stream",
     "text": [
      "297\n"
     ]
    }
   ],
   "source": [
    "predictions = np.array([y_pred1, y_pred3, y_pred2, y_pred4])\n",
    "predictions[:, 0]\n",
    "print(predictions.shape[1])"
   ]
  },
  {
   "cell_type": "code",
   "execution_count": 30,
   "metadata": {},
   "outputs": [],
   "source": [
    "from collections import Counter\n",
    "y_pred_f=[0]*predictions.shape[1]\n",
    "for i in range(0,predictions.shape[1]):\n",
    "  vote_counts = Counter(predictions[:,i])\n",
    "  y_pred_f[i]=vote_counts.most_common(1)[0][0]"
   ]
  },
  {
   "cell_type": "code",
   "execution_count": 31,
   "metadata": {},
   "outputs": [
    {
     "name": "stdout",
     "output_type": "stream",
     "text": [
      "0.6430976430976431\n"
     ]
    }
   ],
   "source": [
    "print(accuracy_score(y_test, y_pred_f))"
   ]
  },
  {
   "cell_type": "code",
   "execution_count": null,
   "metadata": {},
   "outputs": [],
   "source": []
  }
 ],
 "metadata": {
  "kernelspec": {
   "display_name": "Python 3",
   "language": "python",
   "name": "python3"
  },
  "language_info": {
   "codemirror_mode": {
    "name": "ipython",
    "version": 3
   },
   "file_extension": ".py",
   "mimetype": "text/x-python",
   "name": "python",
   "nbconvert_exporter": "python",
   "pygments_lexer": "ipython3",
   "version": "3.12.0"
  }
 },
 "nbformat": 4,
 "nbformat_minor": 2
}
